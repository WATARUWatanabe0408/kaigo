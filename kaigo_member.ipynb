{
 "cells": [
  {
   "cell_type": "code",
   "execution_count": null,
   "metadata": {
    "colab": {
     "base_uri": "https://localhost:8080/"
    },
    "id": "hNGyyVMnweRJ",
    "outputId": "b97f1b90-099c-4f27-bd00-3f7744c37fc7"
   },
   "outputs": [],
   "source": [
    "import zipfile\n",
    "import pandas as pd\n",
    "import glob\n",
    "import re\n",
    "import os"
   ]
  },
  {
   "cell_type": "markdown",
   "metadata": {
    "id": "V3Nwp_GDUHOF"
   },
   "source": [
    "事業所名と従業者情報のデータフレーム作成 ※初回のデータ成形"
   ]
  },
  {
   "cell_type": "code",
   "execution_count": null,
   "metadata": {
    "id": "sRsi_UbSxLnE"
   },
   "outputs": [],
   "source": [
    "# df = pd.read_csv('/Users/wataru/kaigo_data/kanagawa/info.csv', encoding='cp932')\n",
    "\n",
    "# with zipfile.ZipFile('/Users/wataru/kaigo_data/kanagawa/data.zip') as zf:\n",
    "#   zf.extractall('/Users/wataru/kaigo_data/kanagawa/data')\n",
    "\n",
    "officeName = [os.path.basename(p.rstrip(os.sep)) for p\n",
    "       in glob.glob(os.path.join('data', '**' + os.sep), recursive=True)]\n",
    "officeName.remove('data')\n",
    "\n",
    "# カラム名の重複を調査するためのfor文\n",
    "# data_list = []\n",
    "\n",
    "# for file in officeName:\n",
    "#   data_list.append(pd.read_csv('/content/data/'+ file + '/従業者.csv', encoding='cp932'))\n",
    "\n",
    "# df = pd.concat(data_list, axis=0, sort=True)\n",
    "# df2 = df[~df.duplicated(subset=['1','2'])]"
   ]
  },
  {
   "cell_type": "code",
   "execution_count": null,
   "metadata": {
    "id": "iONEbVpKL3dZ"
   },
   "outputs": [],
   "source": [
    "df = pd.read_csv('/Users/wataru/kaigo_data/kanagawa/kanagawa_df.csv')"
   ]
  },
  {
   "cell_type": "code",
   "execution_count": null,
   "metadata": {},
   "outputs": [],
   "source": [
    "# df['事業所名'] = officeName"
   ]
  },
  {
   "cell_type": "code",
   "execution_count": null,
   "metadata": {
    "id": "s5CeL07ZCfRm"
   },
   "outputs": [],
   "source": [
    "for file in officeName:\n",
    "  member = pd.read_csv('/content/data/'+ file + '/従業者.csv', encoding='cp932')\n",
    "  member.drop(['Unnamed: 0', '0'], axis=1)\n",
    "  on = pd.DataFrame(data = [['事業所名','']],)\n",
    "  m1 = member['1'] + '_' + member['2']\n",
    "  m2 = member.drop(['Unnamed: 0', '0', '1', '2'], axis=1)\n",
    "  m3 = pd.concat([m1, m2], axis=1)\n",
    "  insertDf = pd.DataFrame([['事業所名',\"'\"+ file +\"'\",]], columns=m3.columns)\n",
    "  m4 = pd.concat([insertDf, m3])\n",
    "  m5 = m4.T\n",
    "  cols = m5.loc[0]\n",
    "  m6 = m5.set_axis(cols, axis=1)\n",
    "  m7 = m6.drop([0])\n",
    "  df = df.append(m7)\n",
    "  print(file)\n",
    "\n",
    "df"
   ]
  },
  {
   "cell_type": "code",
   "execution_count": null,
   "metadata": {
    "id": "3u1glfR3xtEq"
   },
   "outputs": [],
   "source": [
    "df.to_csv('/content/concat_df.csv', encoding='cp932', errors=\"ignore\")"
   ]
  }
 ],
 "metadata": {
  "colab": {
   "background_execution": "on",
   "name": "kaigo_member.ipynb",
   "provenance": []
  },
  "kernelspec": {
   "display_name": "Python 3",
   "language": "python",
   "name": "python3"
  },
  "language_info": {
   "codemirror_mode": {
    "name": "ipython",
    "version": 3
   },
   "file_extension": ".py",
   "mimetype": "text/x-python",
   "name": "python",
   "nbconvert_exporter": "python",
   "pygments_lexer": "ipython3",
   "version": "3.8.8"
  }
 },
 "nbformat": 4,
 "nbformat_minor": 4
}
