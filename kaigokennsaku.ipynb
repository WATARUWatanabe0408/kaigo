{
 "cells": [
  {
   "cell_type": "code",
   "execution_count": 1,
   "metadata": {},
   "outputs": [
    {
     "name": "stdout",
     "output_type": "stream",
     "text": [
      "Requirement already satisfied: selenium in ./opt/anaconda3/lib/python3.8/site-packages (4.1.0)\n",
      "Requirement already satisfied: trio~=0.17 in ./opt/anaconda3/lib/python3.8/site-packages (from selenium) (0.19.0)\n",
      "Requirement already satisfied: trio-websocket~=0.9 in ./opt/anaconda3/lib/python3.8/site-packages (from selenium) (0.9.2)\n",
      "Requirement already satisfied: urllib3[secure]~=1.26 in ./opt/anaconda3/lib/python3.8/site-packages (from selenium) (1.26.7)\n",
      "Requirement already satisfied: idna in ./opt/anaconda3/lib/python3.8/site-packages (from trio~=0.17->selenium) (2.10)\n",
      "Requirement already satisfied: sniffio in ./opt/anaconda3/lib/python3.8/site-packages (from trio~=0.17->selenium) (1.2.0)\n",
      "Requirement already satisfied: async-generator>=1.9 in ./opt/anaconda3/lib/python3.8/site-packages (from trio~=0.17->selenium) (1.10)\n",
      "Requirement already satisfied: outcome in ./opt/anaconda3/lib/python3.8/site-packages (from trio~=0.17->selenium) (1.1.0)\n",
      "Requirement already satisfied: sortedcontainers in ./opt/anaconda3/lib/python3.8/site-packages (from trio~=0.17->selenium) (2.2.2)\n",
      "Requirement already satisfied: attrs>=19.2.0 in ./opt/anaconda3/lib/python3.8/site-packages (from trio~=0.17->selenium) (19.3.0)\n",
      "Requirement already satisfied: wsproto>=0.14 in ./opt/anaconda3/lib/python3.8/site-packages (from trio-websocket~=0.9->selenium) (1.0.0)\n",
      "Requirement already satisfied: pyOpenSSL>=0.14; extra == \"secure\" in ./opt/anaconda3/lib/python3.8/site-packages (from urllib3[secure]~=1.26->selenium) (19.1.0)\n",
      "Requirement already satisfied: cryptography>=1.3.4; extra == \"secure\" in ./opt/anaconda3/lib/python3.8/site-packages (from urllib3[secure]~=1.26->selenium) (2.9.2)\n",
      "Requirement already satisfied: certifi; extra == \"secure\" in ./opt/anaconda3/lib/python3.8/site-packages (from urllib3[secure]~=1.26->selenium) (2020.6.20)\n",
      "Requirement already satisfied: h11<1,>=0.9.0 in ./opt/anaconda3/lib/python3.8/site-packages (from wsproto>=0.14->trio-websocket~=0.9->selenium) (0.12.0)\n",
      "Requirement already satisfied: six>=1.5.2 in ./opt/anaconda3/lib/python3.8/site-packages (from pyOpenSSL>=0.14; extra == \"secure\"->urllib3[secure]~=1.26->selenium) (1.15.0)\n",
      "Requirement already satisfied: cffi!=1.11.3,>=1.8 in ./opt/anaconda3/lib/python3.8/site-packages (from cryptography>=1.3.4; extra == \"secure\"->urllib3[secure]~=1.26->selenium) (1.14.0)\n",
      "Requirement already satisfied: pycparser in ./opt/anaconda3/lib/python3.8/site-packages (from cffi!=1.11.3,>=1.8->cryptography>=1.3.4; extra == \"secure\"->urllib3[secure]~=1.26->selenium) (2.20)\n",
      "Running `brew update --preinstall`...\n",
      "\u001b[34m==>\u001b[0m \u001b[1mAuto-updated Homebrew!\u001b[0m\n",
      "Updated 1 tap (homebrew/core).\n",
      "\u001b[34m==>\u001b[0m \u001b[1mNew Formulae\u001b[0m\n",
      "lua-language-server\n",
      "\n",
      "\u001b[33mWarning:\u001b[0m Cask 'chromedriver' is already installed.\n",
      "\n",
      "To re-install chromedriver, run:\n",
      "  \u001b[32mbrew reinstall chromedriver\u001b[39m\n",
      "Requirement already satisfied: beautifulsoup4 in ./opt/anaconda3/lib/python3.8/site-packages (4.9.1)\n",
      "Requirement already satisfied: soupsieve>1.2 in ./opt/anaconda3/lib/python3.8/site-packages (from beautifulsoup4) (2.0.1)\n"
     ]
    }
   ],
   "source": [
    "!pip install selenium\n",
    "!brew install chromedriver\n",
    "!pip install beautifulsoup4\n",
    "from selenium import webdriver\n",
    "from time import sleep\n",
    "from selenium.webdriver.common.by import By\n",
    "from bs4 import BeautifulSoup\n",
    "import pandas as pd"
   ]
  },
  {
   "cell_type": "code",
   "execution_count": 5,
   "metadata": {},
   "outputs": [],
   "source": [
    "browser = webdriver.Chrome()\n",
    "browser.get('https://www.kaigokensaku.mhlw.go.jp/13/index.php?action_kouhyou_pref_search_propose_index=true')"
   ]
  },
  {
   "cell_type": "code",
   "execution_count": 6,
   "metadata": {},
   "outputs": [
    {
     "name": "stderr",
     "output_type": "stream",
     "text": [
      "<ipython-input-6-228f6ba6860f>:1: DeprecationWarning: find_elements_by_* commands are deprecated. Please use find_elements() instead\n",
      "  elems = browser.find_elements_by_class_name('btn.btn-lg.btn-select')\n"
     ]
    },
    {
     "name": "stdout",
     "output_type": "stream",
     "text": [
      "介護の相談にのってもらう\n",
      "自宅に訪問して介護してもらう\n",
      "施設等に通って介護してもらう\n"
     ]
    },
    {
     "name": "stderr",
     "output_type": "stream",
     "text": [
      "<ipython-input-6-228f6ba6860f>:12: DeprecationWarning: find_element_by_* commands are deprecated. Please use find_element() instead\n",
      "  close_btn = browser.find_element_by_class_name('btn.btn-close')\n"
     ]
    },
    {
     "name": "stdout",
     "output_type": "stream",
     "text": [
      "施設等に短期間宿泊して介護してもらう\n",
      "施設等に入所して介護してもらう\n",
      "福祉用具（車いす・ベッド等）を利用する\n"
     ]
    }
   ],
   "source": [
    "elems = browser.find_elements_by_class_name('btn.btn-lg.btn-select')\n",
    "\n",
    "for i, elem in enumerate(elems):\n",
    "    if elem.text == '訪問・通いや短期宿泊を組み合わせて介護してもらう':\n",
    "        continue\n",
    "    elem.click()\n",
    "    print(elem.text)\n",
    "\n",
    "    \n",
    "    if i == 2:\n",
    "        sleep(3)\n",
    "        close_btn = browser.find_element_by_class_name('btn.btn-close')\n",
    "        close_btn.click()"
   ]
  },
  {
   "cell_type": "code",
   "execution_count": 7,
   "metadata": {},
   "outputs": [
    {
     "name": "stderr",
     "output_type": "stream",
     "text": [
      "<ipython-input-7-8a672eed4b1c>:1: DeprecationWarning: find_element_by_* commands are deprecated. Please use find_element() instead\n",
      "  elem = browser.find_element_by_link_text('市区町村名から探す')\n"
     ]
    }
   ],
   "source": [
    "elem = browser.find_element_by_link_text('市区町村名から探す')\n",
    "elem.text\n",
    "elem.click()"
   ]
  },
  {
   "cell_type": "code",
   "execution_count": 8,
   "metadata": {},
   "outputs": [
    {
     "name": "stderr",
     "output_type": "stream",
     "text": [
      "<ipython-input-8-2e1e206acbaa>:1: DeprecationWarning: find_element_by_* commands are deprecated. Please use find_element() instead\n",
      "  elem = browser.find_element_by_id('checkAllAreaList')\n"
     ]
    }
   ],
   "source": [
    "elem = browser.find_element_by_id('checkAllAreaList')\n",
    "elem.text\n",
    "elem.click()"
   ]
  },
  {
   "cell_type": "code",
   "execution_count": 9,
   "metadata": {},
   "outputs": [
    {
     "name": "stderr",
     "output_type": "stream",
     "text": [
      "<ipython-input-9-9b712aa33d44>:1: DeprecationWarning: find_element_by_* commands are deprecated. Please use find_element() instead\n",
      "  elem = browser.find_element_by_class_name('btn.btn-primary.btn-lg.btn-search.searchButton')\n"
     ]
    }
   ],
   "source": [
    "elem = browser.find_element_by_class_name('btn.btn-primary.btn-lg.btn-search.searchButton')\n",
    "elem.text\n",
    "elem.click()"
   ]
  },
  {
   "cell_type": "code",
   "execution_count": 75,
   "metadata": {},
   "outputs": [
    {
     "name": "stderr",
     "output_type": "stream",
     "text": [
      "<ipython-input-75-d07a8cc45bcf>:1: DeprecationWarning: find_elements_by_* commands are deprecated. Please use find_elements() instead\n",
      "  elems = browser.find_elements_by_class_name('btn.btn-lg.detailBtn')\n"
     ]
    },
    {
     "ename": "IndexError",
     "evalue": "list index out of range",
     "output_type": "error",
     "traceback": [
      "\u001b[0;31m---------------------------------------------------------------------------\u001b[0m",
      "\u001b[0;31mIndexError\u001b[0m                                Traceback (most recent call last)",
      "\u001b[0;32m<ipython-input-75-d07a8cc45bcf>\u001b[0m in \u001b[0;36m<module>\u001b[0;34m\u001b[0m\n\u001b[1;32m      1\u001b[0m \u001b[0melems\u001b[0m \u001b[0;34m=\u001b[0m \u001b[0mbrowser\u001b[0m\u001b[0;34m.\u001b[0m\u001b[0mfind_elements_by_class_name\u001b[0m\u001b[0;34m(\u001b[0m\u001b[0;34m'btn.btn-lg.detailBtn'\u001b[0m\u001b[0;34m)\u001b[0m\u001b[0;34m\u001b[0m\u001b[0;34m\u001b[0m\u001b[0m\n\u001b[0;32m----> 2\u001b[0;31m \u001b[0mprint\u001b[0m\u001b[0;34m(\u001b[0m\u001b[0melems\u001b[0m\u001b[0;34m[\u001b[0m\u001b[0;36m0\u001b[0m\u001b[0;34m]\u001b[0m\u001b[0;34m.\u001b[0m\u001b[0mtext\u001b[0m\u001b[0;34m)\u001b[0m\u001b[0;34m\u001b[0m\u001b[0;34m\u001b[0m\u001b[0m\n\u001b[0m\u001b[1;32m      3\u001b[0m \u001b[0melems\u001b[0m\u001b[0;34m[\u001b[0m\u001b[0;36m0\u001b[0m\u001b[0;34m]\u001b[0m\u001b[0;34m.\u001b[0m\u001b[0mclick\u001b[0m\u001b[0;34m(\u001b[0m\u001b[0;34m)\u001b[0m\u001b[0;34m\u001b[0m\u001b[0;34m\u001b[0m\u001b[0m\n",
      "\u001b[0;31mIndexError\u001b[0m: list index out of range"
     ]
    }
   ],
   "source": [
    "elems = browser.find_elements_by_class_name('btn.btn-lg.detailBtn')\n",
    "print(elems[0].text)\n",
    "elems[0].click()"
   ]
  },
  {
   "cell_type": "code",
   "execution_count": 65,
   "metadata": {},
   "outputs": [
    {
     "name": "stderr",
     "output_type": "stream",
     "text": [
      "<ipython-input-65-07a0720f5b48>:1: DeprecationWarning: find_elements_by_* commands are deprecated. Please use find_elements() instead\n",
      "  elems = browser.find_elements_by_tag_name('a')\n"
     ]
    }
   ],
   "source": [
    "elems = browser.find_elements_by_tag_name('a')\n",
    "for elem in elems:\n",
    "    if elem.text == \"運営状況\":\n",
    "        elem.text\n",
    "        elem.click()\n",
    "        break"
   ]
  },
  {
   "cell_type": "code",
   "execution_count": 146,
   "metadata": {},
   "outputs": [
    {
     "name": "stdout",
     "output_type": "stream",
     "text": [
      "有限会社　ふくろう介護サービス\n",
      "地域密着型通所介護\n",
      "\n",
      "〒170-0011　東京都豊島区池袋本町　1-25-7　馬場ビル1階\n",
      "\n"
     ]
    },
    {
     "name": "stderr",
     "output_type": "stream",
     "text": [
      "<ipython-input-146-3ff49a1f82ec>:5: DeprecationWarning: find_element_by_* commands are deprecated. Please use find_element() instead\n",
      "  elem = browser.find_element_by_css_selector('tbody:nth-child(2)').text\n",
      "<ipython-input-146-3ff49a1f82ec>:7: DeprecationWarning: find_element_by_* commands are deprecated. Please use find_element() instead\n",
      "  elem = browser.find_element_by_css_selector('tbody:nth-child(3)').text\n"
     ]
    },
    {
     "name": "stdout",
     "output_type": "stream",
     "text": [
      "\n",
      "Tel：03-5992-3667／Fax：03-6907-0304\n",
      "\n"
     ]
    }
   ],
   "source": [
    "h1 = soup.find_all('h1')[1]\n",
    "print(h1.text)\n",
    "td = soup.find('div', id='serviceName')\n",
    "print(td.text)\n",
    "elem = browser.find_element_by_css_selector('tbody:nth-child(2)').text\n",
    "print(elem.replace('所在地', '').replace('地図を開く', ''))\n",
    "elem = browser.find_element_by_css_selector('tbody:nth-child(3)').text\n",
    "print(elem.replace('連絡先', '').replace('ホームページを開く', ''))"
   ]
  },
  {
   "cell_type": "code",
   "execution_count": 144,
   "metadata": {},
   "outputs": [
    {
     "name": "stderr",
     "output_type": "stream",
     "text": [
      "<ipython-input-144-2289c47cc018>:1: DeprecationWarning: find_elements_by_* commands are deprecated. Please use find_elements() instead\n",
      "  elems = browser.find_elements_by_tag_name('a')\n"
     ]
    }
   ],
   "source": [
    "elems = browser.find_elements_by_tag_name('a')\n",
    "for elem in elems:\n",
    "    if elem.text == \"事業所の概要\":\n",
    "        elem.text\n",
    "        elem.click()\n",
    "        break"
   ]
  },
  {
   "cell_type": "code",
   "execution_count": 145,
   "metadata": {},
   "outputs": [
    {
     "data": {
      "text/plain": [
       "<div id=\"tableGroup-5\">\n",
       "<table class=\"table table-bordered\">\n",
       "<tbody><tr class=\"thead\">\n",
       "<th abbr=\"(18) ケアマネジャー等との連携\" class=\"\" colspan=\"3\" style=\"width:auto;\">(18) ケアマネジャー等との連携</th>\n",
       "<th abbr=\"チェック項目\" class=\"\" colspan=\"1\" style=\"width:15%;\">チェック項目</th>\n",
       "</tr>\n",
       "<tr>\n",
       "<th abbr=\"・介護支援専門員（ケアマネジャー）や他のサービス事業者が出席するサービス担当者会議に出席している。\" class=\"\" colspan=\"3\" style=\"width:auto;\">・介護支援専門員（ケアマネジャー）や他のサービス事業者が出席するサービス担当者会議に出席している。</th>\n",
       "<th abbr=\"\" class=\"\" colspan=\"1\" style=\"width:15%;\"></th>\n",
       "</tr>\n",
       "<tr>\n",
       "<td abbr=\"サービス担当者会議に出席した記録がある。\" class=\"\" colspan=\"3\" style=\"width:auto;\">サービス担当者会議に出席した記録がある。</td>\n",
       "<td abbr=\"\" class=\"\" colspan=\"1\" diffid=\"diff-c139\" style=\"width:15%;\"><img alt=\"○\" height=\"32\" src=\"/img/pref/ico_jigyosho_maru.gif\" width=\"32\"/></td>\n",
       "</tr>\n",
       "<tr class=\"isEtcRow\" style=\"display: none;\">\n",
       "<td abbr=\"（その他）\" class=\"\" colspan=\"2\" style=\"width:15%;\">（その他）</td>\n",
       "<td abbr=\"\" class=\"\" colspan=\"1\" diffid=\"diff-c140\" style=\"width:auto;\"></td>\n",
       "<td abbr=\"\" class=\"\" colspan=\"1\" diffid=\"diff-c141\" style=\"width:15%;\"><img alt=\"-\" height=\"32\" src=\"/img/pref/ico_jigyosho_hyphen.gif\" width=\"32\"/></td>\n",
       "</tr>\n",
       "<tr class=\"thead\">\n",
       "<th abbr=\"(19) 主治医等との連携\" class=\"\" colspan=\"3\" style=\"width:auto;\">(19) 主治医等との連携</th>\n",
       "<th abbr=\"チェック項目\" class=\"\" colspan=\"1\" style=\"width:15%;\">チェック項目</th>\n",
       "</tr>\n",
       "<tr>\n",
       "<th abbr=\"・利用者の主治医等との連携を図っている。\" class=\"\" colspan=\"3\" style=\"width:auto;\">・利用者の主治医等との連携を図っている。</th>\n",
       "<th abbr=\"\" class=\"\" colspan=\"1\" style=\"width:15%;\"></th>\n",
       "</tr>\n",
       "<tr>\n",
       "<td abbr=\"利用者ごとの記録に主治医等が記載され、マニュアル等に連絡手順等を記載している。\" class=\"\" colspan=\"3\" style=\"width:auto;\">利用者ごとの記録に主治医等が記載され、マニュアル等に連絡手順等を記載している。</td>\n",
       "<td abbr=\"\" class=\"\" colspan=\"1\" diffid=\"diff-c142\" style=\"width:15%;\"><img alt=\"○\" height=\"32\" src=\"/img/pref/ico_jigyosho_maru.gif\" width=\"32\"/></td>\n",
       "</tr>\n",
       "<tr class=\"isEtcRow\" style=\"display: none;\">\n",
       "<td abbr=\"（その他）\" class=\"\" colspan=\"2\" style=\"width:15%;\">（その他）</td>\n",
       "<td abbr=\"\" class=\"\" colspan=\"1\" diffid=\"diff-c143\" style=\"width:auto;\"></td>\n",
       "<td abbr=\"\" class=\"\" colspan=\"1\" diffid=\"diff-c144\" style=\"width:15%;\"><img alt=\"-\" height=\"32\" src=\"/img/pref/ico_jigyosho_hyphen.gif\" width=\"32\"/></td>\n",
       "</tr>\n",
       "<tr class=\"thead\">\n",
       "<th abbr=\"(20) 地域との連携、交流等の取組状況\" class=\"\" colspan=\"3\" style=\"width:auto;\">(20) 地域との連携、交流等の取組状況</th>\n",
       "<th abbr=\"チェック項目\" class=\"\" colspan=\"1\" style=\"width:15%;\">チェック項目</th>\n",
       "</tr>\n",
       "<tr>\n",
       "<th abbr=\"・事業所の行事等やサービス内容等について、地域への情報提供を行っている。\" class=\"\" colspan=\"3\" style=\"width:auto;\">・事業所の行事等やサービス内容等について、地域への情報提供を行っている。</th>\n",
       "<th abbr=\"\" class=\"\" colspan=\"1\" style=\"width:15%;\"></th>\n",
       "</tr>\n",
       "<tr>\n",
       "<td abbr=\"事業所の広報誌、パンフレット等を地域に配布した記録がある。\" class=\"\" colspan=\"3\" style=\"width:auto;\">事業所の広報誌、パンフレット等を地域に配布した記録がある。</td>\n",
       "<td abbr=\"\" class=\"\" colspan=\"1\" diffid=\"diff-c145\" style=\"width:15%;\"><img alt=\"○\" height=\"32\" src=\"/img/pref/ico_jigyosho_maru.gif\" width=\"32\"/></td>\n",
       "</tr>\n",
       "<tr class=\"isEtcRow\" style=\"display: none;\">\n",
       "<td abbr=\"（その他）\" class=\"\" colspan=\"2\" style=\"width:15%;\">（その他）</td>\n",
       "<td abbr=\"\" class=\"\" colspan=\"1\" diffid=\"diff-c146\" style=\"width:auto;\"></td>\n",
       "<td abbr=\"\" class=\"\" colspan=\"1\" diffid=\"diff-c147\" style=\"width:15%;\"><img alt=\"-\" height=\"32\" src=\"/img/pref/ico_jigyosho_hyphen.gif\" width=\"32\"/></td>\n",
       "</tr>\n",
       "<tr>\n",
       "<th abbr=\"・ボランティアを受け入れる仕組みがある。\" class=\"\" colspan=\"3\" style=\"width:auto;\">・ボランティアを受け入れる仕組みがある。</th>\n",
       "<th abbr=\"\" class=\"\" colspan=\"1\" style=\"width:15%;\"></th>\n",
       "</tr>\n",
       "<tr>\n",
       "<td abbr=\"ボランティア申込票、登録票、受入票等がある。\" class=\"\" colspan=\"3\" style=\"width:auto;\">ボランティア申込票、登録票、受入票等がある。</td>\n",
       "<td abbr=\"\" class=\"\" colspan=\"1\" diffid=\"diff-c148\" style=\"width:15%;\"><img alt=\"○\" height=\"32\" src=\"/img/pref/ico_jigyosho_maru.gif\" width=\"32\"/></td>\n",
       "</tr>\n",
       "<tr>\n",
       "<td abbr=\"ボランティア活動プログラム、ボランティア活動記録等がある。\" class=\"\" colspan=\"3\" style=\"width:auto;\">ボランティア活動プログラム、ボランティア活動記録等がある。</td>\n",
       "<td abbr=\"\" class=\"\" colspan=\"1\" diffid=\"diff-c149\" style=\"width:15%;\"><img alt=\"○\" height=\"32\" src=\"/img/pref/ico_jigyosho_maru.gif\" width=\"32\"/></td>\n",
       "</tr>\n",
       "<tr class=\"isEtcRow\" style=\"display: none;\">\n",
       "<td abbr=\"（その他）\" class=\"\" colspan=\"2\" style=\"width:15%;\">（その他）</td>\n",
       "<td abbr=\"\" class=\"\" colspan=\"1\" diffid=\"diff-c150\" style=\"width:auto;\"></td>\n",
       "<td abbr=\"\" class=\"\" colspan=\"1\" diffid=\"diff-c151\" style=\"width:15%;\"><img alt=\"-\" height=\"32\" src=\"/img/pref/ico_jigyosho_hyphen.gif\" width=\"32\"/></td>\n",
       "</tr>\n",
       "<tr class=\"thead\">\n",
       "<th abbr=\"(21) 地域包括支援センターとの連携\" class=\"\" colspan=\"3\" style=\"width:auto;\">(21) 地域包括支援センターとの連携</th>\n",
       "<th abbr=\"チェック項目\" class=\"\" colspan=\"1\" style=\"width:15%;\">チェック項目</th>\n",
       "</tr>\n",
       "<tr>\n",
       "<th abbr=\"・支援が難な事例等について、地域包括支援センターと連携し対応している。\" class=\"\" colspan=\"3\" style=\"width:auto;\">・支援が難な事例等について、地域包括支援センターと連携し対応している。</th>\n",
       "<th abbr=\"\" class=\"\" colspan=\"1\" style=\"width:15%;\"></th>\n",
       "</tr>\n",
       "<tr>\n",
       "<td abbr=\"困難な事例や苦情につながる事例の場合等を、地域包括支援センターにつなげた記録がある。\" class=\"\" colspan=\"3\" style=\"width:auto;\">困難な事例や苦情につながる事例の場合等を、地域包括支援センターにつなげた記録がある。</td>\n",
       "<td abbr=\"\" class=\"\" colspan=\"1\" diffid=\"diff-c152\" style=\"width:15%;\"><img alt=\"-\" height=\"32\" src=\"/img/pref/ico_jigyosho_hyphen.gif\" width=\"32\"/></td>\n",
       "</tr>\n",
       "<tr class=\"isEtcRow\" style=\"display: none;\">\n",
       "<td abbr=\"（その他）\" class=\"\" colspan=\"2\" style=\"width:15%;\">（その他）</td>\n",
       "<td abbr=\"\" class=\"\" colspan=\"1\" diffid=\"diff-c153\" style=\"width:auto;\"></td>\n",
       "<td abbr=\"\" class=\"\" colspan=\"1\" diffid=\"diff-c154\" style=\"width:15%;\"><img alt=\"-\" height=\"32\" src=\"/img/pref/ico_jigyosho_hyphen.gif\" width=\"32\"/></td>\n",
       "</tr>\n",
       "</tbody></table>\n",
       "</div>"
      ]
     },
     "execution_count": 145,
     "metadata": {},
     "output_type": "execute_result"
    }
   ],
   "source": [
    "td = soup.find('div', id='tableGroup-5')\n",
    "td\n",
    "#tableGroup-5"
   ]
  },
  {
   "cell_type": "code",
   "execution_count": 143,
   "metadata": {},
   "outputs": [
    {
     "data": {
      "text/plain": [
       "<div id=\"tableGroup-5\">\n",
       "<table class=\"table table-bordered\">\n",
       "<tbody><tr class=\"thead\">\n",
       "<th abbr=\"(18) ケアマネジャー等との連携\" class=\"\" colspan=\"3\" style=\"width:auto;\">(18) ケアマネジャー等との連携</th>\n",
       "<th abbr=\"チェック項目\" class=\"\" colspan=\"1\" style=\"width:15%;\">チェック項目</th>\n",
       "</tr>\n",
       "<tr>\n",
       "<th abbr=\"・介護支援専門員（ケアマネジャー）や他のサービス事業者が出席するサービス担当者会議に出席している。\" class=\"\" colspan=\"3\" style=\"width:auto;\">・介護支援専門員（ケアマネジャー）や他のサービス事業者が出席するサービス担当者会議に出席している。</th>\n",
       "<th abbr=\"\" class=\"\" colspan=\"1\" style=\"width:15%;\"></th>\n",
       "</tr>\n",
       "<tr>\n",
       "<td abbr=\"サービス担当者会議に出席した記録がある。\" class=\"\" colspan=\"3\" style=\"width:auto;\">サービス担当者会議に出席した記録がある。</td>\n",
       "<td abbr=\"\" class=\"\" colspan=\"1\" diffid=\"diff-c139\" style=\"width:15%;\"><img alt=\"○\" height=\"32\" src=\"/img/pref/ico_jigyosho_maru.gif\" width=\"32\"/></td>\n",
       "</tr>\n",
       "<tr class=\"isEtcRow\" style=\"display: none;\">\n",
       "<td abbr=\"（その他）\" class=\"\" colspan=\"2\" style=\"width:15%;\">（その他）</td>\n",
       "<td abbr=\"\" class=\"\" colspan=\"1\" diffid=\"diff-c140\" style=\"width:auto;\"></td>\n",
       "<td abbr=\"\" class=\"\" colspan=\"1\" diffid=\"diff-c141\" style=\"width:15%;\"><img alt=\"-\" height=\"32\" src=\"/img/pref/ico_jigyosho_hyphen.gif\" width=\"32\"/></td>\n",
       "</tr>\n",
       "<tr class=\"thead\">\n",
       "<th abbr=\"(19) 主治医等との連携\" class=\"\" colspan=\"3\" style=\"width:auto;\">(19) 主治医等との連携</th>\n",
       "<th abbr=\"チェック項目\" class=\"\" colspan=\"1\" style=\"width:15%;\">チェック項目</th>\n",
       "</tr>\n",
       "<tr>\n",
       "<th abbr=\"・利用者の主治医等との連携を図っている。\" class=\"\" colspan=\"3\" style=\"width:auto;\">・利用者の主治医等との連携を図っている。</th>\n",
       "<th abbr=\"\" class=\"\" colspan=\"1\" style=\"width:15%;\"></th>\n",
       "</tr>\n",
       "<tr>\n",
       "<td abbr=\"利用者ごとの記録に主治医等が記載され、マニュアル等に連絡手順等を記載している。\" class=\"\" colspan=\"3\" style=\"width:auto;\">利用者ごとの記録に主治医等が記載され、マニュアル等に連絡手順等を記載している。</td>\n",
       "<td abbr=\"\" class=\"\" colspan=\"1\" diffid=\"diff-c142\" style=\"width:15%;\"><img alt=\"○\" height=\"32\" src=\"/img/pref/ico_jigyosho_maru.gif\" width=\"32\"/></td>\n",
       "</tr>\n",
       "<tr class=\"isEtcRow\" style=\"display: none;\">\n",
       "<td abbr=\"（その他）\" class=\"\" colspan=\"2\" style=\"width:15%;\">（その他）</td>\n",
       "<td abbr=\"\" class=\"\" colspan=\"1\" diffid=\"diff-c143\" style=\"width:auto;\"></td>\n",
       "<td abbr=\"\" class=\"\" colspan=\"1\" diffid=\"diff-c144\" style=\"width:15%;\"><img alt=\"-\" height=\"32\" src=\"/img/pref/ico_jigyosho_hyphen.gif\" width=\"32\"/></td>\n",
       "</tr>\n",
       "<tr class=\"thead\">\n",
       "<th abbr=\"(20) 地域との連携、交流等の取組状況\" class=\"\" colspan=\"3\" style=\"width:auto;\">(20) 地域との連携、交流等の取組状況</th>\n",
       "<th abbr=\"チェック項目\" class=\"\" colspan=\"1\" style=\"width:15%;\">チェック項目</th>\n",
       "</tr>\n",
       "<tr>\n",
       "<th abbr=\"・事業所の行事等やサービス内容等について、地域への情報提供を行っている。\" class=\"\" colspan=\"3\" style=\"width:auto;\">・事業所の行事等やサービス内容等について、地域への情報提供を行っている。</th>\n",
       "<th abbr=\"\" class=\"\" colspan=\"1\" style=\"width:15%;\"></th>\n",
       "</tr>\n",
       "<tr>\n",
       "<td abbr=\"事業所の広報誌、パンフレット等を地域に配布した記録がある。\" class=\"\" colspan=\"3\" style=\"width:auto;\">事業所の広報誌、パンフレット等を地域に配布した記録がある。</td>\n",
       "<td abbr=\"\" class=\"\" colspan=\"1\" diffid=\"diff-c145\" style=\"width:15%;\"><img alt=\"○\" height=\"32\" src=\"/img/pref/ico_jigyosho_maru.gif\" width=\"32\"/></td>\n",
       "</tr>\n",
       "<tr class=\"isEtcRow\" style=\"display: none;\">\n",
       "<td abbr=\"（その他）\" class=\"\" colspan=\"2\" style=\"width:15%;\">（その他）</td>\n",
       "<td abbr=\"\" class=\"\" colspan=\"1\" diffid=\"diff-c146\" style=\"width:auto;\"></td>\n",
       "<td abbr=\"\" class=\"\" colspan=\"1\" diffid=\"diff-c147\" style=\"width:15%;\"><img alt=\"-\" height=\"32\" src=\"/img/pref/ico_jigyosho_hyphen.gif\" width=\"32\"/></td>\n",
       "</tr>\n",
       "<tr>\n",
       "<th abbr=\"・ボランティアを受け入れる仕組みがある。\" class=\"\" colspan=\"3\" style=\"width:auto;\">・ボランティアを受け入れる仕組みがある。</th>\n",
       "<th abbr=\"\" class=\"\" colspan=\"1\" style=\"width:15%;\"></th>\n",
       "</tr>\n",
       "<tr>\n",
       "<td abbr=\"ボランティア申込票、登録票、受入票等がある。\" class=\"\" colspan=\"3\" style=\"width:auto;\">ボランティア申込票、登録票、受入票等がある。</td>\n",
       "<td abbr=\"\" class=\"\" colspan=\"1\" diffid=\"diff-c148\" style=\"width:15%;\"><img alt=\"○\" height=\"32\" src=\"/img/pref/ico_jigyosho_maru.gif\" width=\"32\"/></td>\n",
       "</tr>\n",
       "<tr>\n",
       "<td abbr=\"ボランティア活動プログラム、ボランティア活動記録等がある。\" class=\"\" colspan=\"3\" style=\"width:auto;\">ボランティア活動プログラム、ボランティア活動記録等がある。</td>\n",
       "<td abbr=\"\" class=\"\" colspan=\"1\" diffid=\"diff-c149\" style=\"width:15%;\"><img alt=\"○\" height=\"32\" src=\"/img/pref/ico_jigyosho_maru.gif\" width=\"32\"/></td>\n",
       "</tr>\n",
       "<tr class=\"isEtcRow\" style=\"display: none;\">\n",
       "<td abbr=\"（その他）\" class=\"\" colspan=\"2\" style=\"width:15%;\">（その他）</td>\n",
       "<td abbr=\"\" class=\"\" colspan=\"1\" diffid=\"diff-c150\" style=\"width:auto;\"></td>\n",
       "<td abbr=\"\" class=\"\" colspan=\"1\" diffid=\"diff-c151\" style=\"width:15%;\"><img alt=\"-\" height=\"32\" src=\"/img/pref/ico_jigyosho_hyphen.gif\" width=\"32\"/></td>\n",
       "</tr>\n",
       "<tr class=\"thead\">\n",
       "<th abbr=\"(21) 地域包括支援センターとの連携\" class=\"\" colspan=\"3\" style=\"width:auto;\">(21) 地域包括支援センターとの連携</th>\n",
       "<th abbr=\"チェック項目\" class=\"\" colspan=\"1\" style=\"width:15%;\">チェック項目</th>\n",
       "</tr>\n",
       "<tr>\n",
       "<th abbr=\"・支援が難な事例等について、地域包括支援センターと連携し対応している。\" class=\"\" colspan=\"3\" style=\"width:auto;\">・支援が難な事例等について、地域包括支援センターと連携し対応している。</th>\n",
       "<th abbr=\"\" class=\"\" colspan=\"1\" style=\"width:15%;\"></th>\n",
       "</tr>\n",
       "<tr>\n",
       "<td abbr=\"困難な事例や苦情につながる事例の場合等を、地域包括支援センターにつなげた記録がある。\" class=\"\" colspan=\"3\" style=\"width:auto;\">困難な事例や苦情につながる事例の場合等を、地域包括支援センターにつなげた記録がある。</td>\n",
       "<td abbr=\"\" class=\"\" colspan=\"1\" diffid=\"diff-c152\" style=\"width:15%;\"><img alt=\"-\" height=\"32\" src=\"/img/pref/ico_jigyosho_hyphen.gif\" width=\"32\"/></td>\n",
       "</tr>\n",
       "<tr class=\"isEtcRow\" style=\"display: none;\">\n",
       "<td abbr=\"（その他）\" class=\"\" colspan=\"2\" style=\"width:15%;\">（その他）</td>\n",
       "<td abbr=\"\" class=\"\" colspan=\"1\" diffid=\"diff-c153\" style=\"width:auto;\"></td>\n",
       "<td abbr=\"\" class=\"\" colspan=\"1\" diffid=\"diff-c154\" style=\"width:15%;\"><img alt=\"-\" height=\"32\" src=\"/img/pref/ico_jigyosho_hyphen.gif\" width=\"32\"/></td>\n",
       "</tr>\n",
       "</tbody></table>\n",
       "</div>"
      ]
     },
     "execution_count": 143,
     "metadata": {},
     "output_type": "execute_result"
    }
   ],
   "source": []
  },
  {
   "cell_type": "code",
   "execution_count": null,
   "metadata": {},
   "outputs": [],
   "source": []
  },
  {
   "cell_type": "code",
   "execution_count": null,
   "metadata": {},
   "outputs": [],
   "source": []
  },
  {
   "cell_type": "code",
   "execution_count": 133,
   "metadata": {},
   "outputs": [
    {
     "name": "stdout",
     "output_type": "stream",
     "text": [
      "\n",
      "〒170-0011　東京都豊島区池袋本町　1-25-7　馬場ビル1階\n",
      "\n"
     ]
    },
    {
     "name": "stderr",
     "output_type": "stream",
     "text": [
      "<ipython-input-133-bb7226b6881f>:1: DeprecationWarning: find_element_by_* commands are deprecated. Please use find_element() instead\n",
      "  elem = browser.find_element_by_css_selector('tbody:nth-child(2)').text\n"
     ]
    }
   ],
   "source": []
  },
  {
   "cell_type": "code",
   "execution_count": null,
   "metadata": {},
   "outputs": [],
   "source": []
  },
  {
   "cell_type": "code",
   "execution_count": null,
   "metadata": {},
   "outputs": [],
   "source": []
  },
  {
   "cell_type": "code",
   "execution_count": 69,
   "metadata": {},
   "outputs": [
    {
     "name": "stdout",
     "output_type": "stream",
     "text": [
      "・全ての「新任」の従業者を対象とする研修を計画的に行っている。\n",
      "\n",
      "・全ての「現任」の従業者を対象とする研修を計画的に行っている。\n",
      "\n",
      "(32) 利用者の意向等を踏まえた介護サービスの提供内容の改善状況\n",
      "チェック項目\n",
      "・利用者の意向、満足度等を、経営改善に反映する仕組がある。\n",
      "\n",
      "・自ら提供するサービスの質について、定期的に事業所の自己評価を行っている。\n",
      "\n",
      "・事業所全体のサービスの質の確保について検討する仕組がある。\n",
      "\n",
      "(33) 介護サービスの提供のためのマニュアル等の活用及び見直しの実施状況\n",
      "チェック項目\n",
      "・マニュアル等は、いつでも従業員に閲覧できる場所に備え付けている。\n",
      "\n",
      "・マニュアル等の見直しについて検討している。\n",
      "\n",
      "○\n",
      "○\n",
      "-\n",
      "○\n",
      "○\n",
      "-\n",
      "○\n",
      "-\n",
      "○\n",
      "-\n",
      "○\n",
      "-\n",
      "○\n",
      "-\n",
      "○\n",
      "-\n"
     ]
    }
   ],
   "source": [
    "tables = soup.find_all(class_=\"table table-bordered\")\n",
    "flag = False\n",
    "for table in tables: \n",
    "    thlist = table.find_all(\"th\")\n",
    "    for th in thlist:        \n",
    "        if th.get_text() == \"・全ての「新任」の従業者を対象とする研修を計画的に行っている。\":\n",
    "            flag = True\n",
    "        if flag == True:\n",
    "            print(th.get_text())\n",
    "    tdlist = table.find_all(\"td\")\n",
    "    if flag == True:\n",
    "        for td in tdlist:\n",
    "            imgs = td.find_all(\"img\")            \n",
    "            for img in imgs:\n",
    "                print(img.get('alt'))"
   ]
  },
  {
   "cell_type": "code",
   "execution_count": 70,
   "metadata": {},
   "outputs": [],
   "source": [
    "df = pd.DataFrame()"
   ]
  },
  {
   "cell_type": "code",
   "execution_count": 74,
   "metadata": {},
   "outputs": [
    {
     "data": {
      "text/html": [
       "<div>\n",
       "<style scoped>\n",
       "    .dataframe tbody tr th:only-of-type {\n",
       "        vertical-align: middle;\n",
       "    }\n",
       "\n",
       "    .dataframe tbody tr th {\n",
       "        vertical-align: top;\n",
       "    }\n",
       "\n",
       "    .dataframe thead th {\n",
       "        text-align: right;\n",
       "    }\n",
       "</style>\n",
       "<table border=\"1\" class=\"dataframe\">\n",
       "  <thead>\n",
       "    <tr style=\"text-align: right;\">\n",
       "      <th></th>\n",
       "      <th>項目</th>\n",
       "    </tr>\n",
       "  </thead>\n",
       "  <tbody>\n",
       "  </tbody>\n",
       "</table>\n",
       "</div>"
      ],
      "text/plain": [
       "Empty DataFrame\n",
       "Columns: [項目]\n",
       "Index: []"
      ]
     },
     "execution_count": 74,
     "metadata": {},
     "output_type": "execute_result"
    }
   ],
   "source": [
    "df['項目'] = th\n",
    "df"
   ]
  },
  {
   "cell_type": "code",
   "execution_count": null,
   "metadata": {},
   "outputs": [],
   "source": []
  }
 ],
 "metadata": {
  "kernelspec": {
   "display_name": "Python 3",
   "language": "python",
   "name": "python3"
  },
  "language_info": {
   "codemirror_mode": {
    "name": "ipython",
    "version": 3
   },
   "file_extension": ".py",
   "mimetype": "text/x-python",
   "name": "python",
   "nbconvert_exporter": "python",
   "pygments_lexer": "ipython3",
   "version": "3.8.3"
  }
 },
 "nbformat": 4,
 "nbformat_minor": 4
}
