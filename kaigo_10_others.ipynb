{
 "cells": [
  {
   "cell_type": "code",
   "execution_count": 1,
   "metadata": {
    "colab": {
     "base_uri": "https://localhost:8080/"
    },
    "id": "hNGyyVMnweRJ",
    "outputId": "b97f1b90-099c-4f27-bd00-3f7744c37fc7"
   },
   "outputs": [],
   "source": [
    "import zipfile\n",
    "import pandas as pd\n",
    "import glob\n",
    "import re\n",
    "import os"
   ]
  },
  {
   "cell_type": "markdown",
   "metadata": {
    "id": "V3Nwp_GDUHOF"
   },
   "source": [
    "事業所名と従業者情報のデータフレーム作成 ※初回のデータ成形"
   ]
  },
  {
   "cell_type": "code",
   "execution_count": null,
   "metadata": {
    "id": "sRsi_UbSxLnE"
   },
   "outputs": [],
   "source": [
    "# df = pd.read_csv('/Users/wataru/kaigo_data/kanagawa/info.csv', encoding='cp932')\n",
    "\n",
    "# with zipfile.ZipFile('/Users/wataru/kaigo_data/kanagawa/data.zip') as zf:\n",
    "#   zf.extractall('/Users/wataru/kaigo_data/kanagawa/data')\n",
    "\n",
    "officeName = [os.path.basename(p.rstrip(os.sep)) for p\n",
    "       in glob.glob(os.path.join('data', '**' + os.sep), recursive=True)]\n",
    "officeName.remove('data')\n",
    "\n",
    "# カラム名の重複を調査するためのfor文\n",
    "# data_list = []\n",
    "\n",
    "# for file in officeName:\n",
    "#   data_list.append(pd.read_csv('/content/data/'+ file + '/従業者.csv', encoding='cp932'))\n",
    "\n",
    "# df = pd.concat(data_list, axis=0, sort=True)\n",
    "# df2 = df[~df.duplicated(subset=['1','2'])]\n",
    "\n",
    "# data_list = []\n",
    "# for file in officeName:\n",
    "#   if os.path.exists('/Users/wataru/kaigo_data/kanagawa/kanagawa_datail/'+ file + '/10．その他、介護サービスの質の確保のために行っていること.csv')== True:\n",
    "#        data_list.append(pd.read_csv('/Users/wataru/kaigo_data/kanagawa/kanagawa_datail/'+ file + '/10．その他、介護サービスの質の確保のために行っていること.csv', encoding='cp932'))\n",
    "#   else:\n",
    "#     continue\n",
    "\n",
    "# data_list\n",
    "# df = pd.concat(data_list, axis=0, sort=True)"
   ]
  },
  {
   "cell_type": "code",
   "execution_count": 10,
   "metadata": {
    "id": "iONEbVpKL3dZ",
    "tags": []
   },
   "outputs": [],
   "source": [
    "df = pd.read_csv('/Users/wataru/kaigo_data/kanagawa/kanagawaQuitConcatOthers.csv')\n",
    "officeName = df['事業所名']"
   ]
  },
  {
   "cell_type": "code",
   "execution_count": 67,
   "metadata": {},
   "outputs": [],
   "source": [
    "df2 = pd.DataFrame(index=[], \n",
    "                  columns=['事業所名',\n",
    "                           '全ての「新任」の従業者を対象とする研修計画がある。',\n",
    "                           '全ての「新任」の従業者を対象とする研修の実施記録がある。',\n",
    "                           '全ての「現任」の従業者を対象とする研修計画がある。',\n",
    "                           '全ての「現任」の従業者を対象とする研修の実施記録がある。',\n",
    "                           '介護予防及び要介護度進行の予防に関するマニュアルがある。',\n",
    "                           '介護予防及び要介護度進行の予防に関する研修を行っている。',\n",
    "                           '経営改善のための会議で、利用者の意向、満足度等について検討された記録がある。',\n",
    "                           '自ら提供するサービスの質について、事業所の自己評価を行った記録がある。',\n",
    "                           '事業所全体のサービス内容を検討する会議の設置規程等がある。',\n",
    "                           '従業者が自由に閲覧できる場所に設置してある。',\n",
    "                           '見直しについて検討された記録がある。'])"
   ]
  },
  {
   "cell_type": "code",
   "execution_count": null,
   "metadata": {},
   "outputs": [],
   "source": [
    "for file in officeName:\n",
    "    if os.path.exists('/Users/wataru/kaigo_data/kanagawa/kanagawa_datail/'+ file + '/10．その他、介護サービスの質の確保のために行っていること.csv')== True:\n",
    "        member = pd.read_csv('/Users/wataru/kaigo_data/kanagawa/kanagawa_datail/'+ file + '/10．その他、介護サービスの質の確保のために行っていること.csv', encoding='cp932')\n",
    "        m1 = member.set_axis(['Col_1', '従業者等の計画的な教育、研修等の実施状況', 'チェック項目'], axis='columns')\n",
    "        if len(m1)>18:\n",
    "            m2 = m1.drop(member.index[[0,3,6,9,10,12,14,16,17,19]])\n",
    "            m3 = m2.drop(columns=['Col_1'])\n",
    "            m4 = m3.reset_index()\n",
    "            m5 = m4.T.reset_index().drop(columns=['index'])\n",
    "            m5.columns=['全ての「新任」の従業者を対象とする研修計画がある。',\n",
    "                        '全ての「新任」の従業者を対象とする研修の実施記録がある。',\n",
    "                        '全ての「現任」の従業者を対象とする研修計画がある。',\n",
    "                        '全ての「現任」の従業者を対象とする研修の実施記録がある。',\n",
    "                        '介護予防及び要介護度進行の予防に関するマニュアルがある。',\n",
    "                        '介護予防及び要介護度進行の予防に関する研修を行っている。',\n",
    "                        '経営改善のための会議で、利用者の意向、満足度等について検討された記録がある。',\n",
    "                        '自ら提供するサービスの質について、事業所の自己評価を行った記録がある。',\n",
    "                        '事業所全体のサービス内容を検討する会議の設置規程等がある。',\n",
    "                        '従業者が自由に閲覧できる場所に設置してある。',\n",
    "                        '見直しについて検討された記録がある。']\n",
    "            m6 = m5.drop(index=[0,1])\n",
    "            m6.insert(0,'事業所名', file)\n",
    "            df2 = df2.append(m6)\n",
    "            print(file)\n",
    "        else:\n",
    "            m2 = m1.drop(member.index[[0,3,6,7,9,11,13,14,16]])\n",
    "            m3 = m2.drop(columns=['Col_1'])\n",
    "            m4 = m3.reset_index()\n",
    "            m5 = m4.T.reset_index().drop(columns=['index'])\n",
    "            m5.columns = ['全ての「新任」の従業者を対象とする研修計画がある。',\n",
    "                          '全ての「新任」の従業者を対象とする研修の実施記録がある。',\n",
    "                          '全ての「現任」の従業者を対象とする研修計画がある。',\n",
    "                          '全ての「現任」の従業者を対象とする研修の実施記録がある。',\n",
    "                          '経営改善のための会議で、利用者の意向、満足度等について検討された記録がある。',\n",
    "                          '自ら提供するサービスの質について、事業所の自己評価を行った記録がある。',\n",
    "                          '事業所全体のサービス内容を検討する会議の設置規程等がある。',\n",
    "                          '従業者が自由に閲覧できる場所に設置してある。',\n",
    "                          '見直しについて検討された記録がある。']\n",
    "            m6 = m5.drop(index=[0,1])\n",
    "            m6.insert(0,'事業所名', file)\n",
    "            df2 = df2.append(m6)\n",
    "            print(file)\n",
    "    else:\n",
    "        continue"
   ]
  },
  {
   "cell_type": "code",
   "execution_count": 69,
   "metadata": {},
   "outputs": [],
   "source": [
    "infoOthersData = pd.merge(df, df2, on='事業所名')"
   ]
  },
  {
   "cell_type": "code",
   "execution_count": 70,
   "metadata": {
    "id": "3u1glfR3xtEq"
   },
   "outputs": [],
   "source": [
    "infoOthersData.to_csv('/Users/wataru/kaigo_data/kanagawa/QuitConcatOthers3.csv', encoding='cp932', errors=\"ignore\")"
   ]
  }
 ],
 "metadata": {
  "colab": {
   "background_execution": "on",
   "name": "kaigo_member.ipynb",
   "provenance": []
  },
  "kernelspec": {
   "display_name": "Python 3",
   "language": "python",
   "name": "python3"
  },
  "language_info": {
   "codemirror_mode": {
    "name": "ipython",
    "version": 3
   },
   "file_extension": ".py",
   "mimetype": "text/x-python",
   "name": "python",
   "nbconvert_exporter": "python",
   "pygments_lexer": "ipython3",
   "version": "3.8.8"
  }
 },
 "nbformat": 4,
 "nbformat_minor": 4
}
